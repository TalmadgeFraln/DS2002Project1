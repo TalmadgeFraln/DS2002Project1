{
 "cells": [
  {
   "cell_type": "code",
   "execution_count": null,
   "id": "initial_id",
   "metadata": {
    "collapsed": true,
    "ExecuteTime": {
     "end_time": "2023-10-29T19:31:43.956530Z",
     "start_time": "2023-10-29T19:31:43.954944Z"
    }
   },
   "outputs": [],
   "source": []
  },
  {
   "cell_type": "code",
   "execution_count": null,
   "outputs": [],
   "source": [
    "from apify_client import ApifyClient\n",
    "\n",
    "# Initialize the ApifyClient with your API token\n",
    "client = ApifyClient(\"apify_api_a8sbAcJSz4mTJqalbT0LydmOxC8Jr32RXwt6\")\n",
    "\n",
    "# Prepare the Actor input\n",
    "run_input = {\n",
    "    \"search\": \"New York\",\n",
    "    \"maxItems\": 10,\n",
    "    \"propertyType\": \"none\",\n",
    "    \"sortBy\": \"distance_from_search\",\n",
    "    \"starsCountFilter\": \"any\",\n",
    "    \"currency\": \"USD\",\n",
    "    \"language\": \"en-gb\",\n",
    "    \"checkIn\": \"\",\n",
    "    \"checkOut\": \"\",\n",
    "    \"rooms\": 1,\n",
    "    \"adults\": 2,\n",
    "    \"children\": 0,\n",
    "    \"minMaxPrice\": \"0-999999\",\n",
    "}\n",
    "\n",
    "# Run the Actor and wait for it to finish\n",
    "run = client.actor(\"oeiQgfg5fsmIJB7Cn\").call(run_input=run_input)\n",
    "\n",
    "# Fetch and print Actor results from the run's dataset (if there are any)\n",
    "for item in client.dataset(run[\"defaultDatasetId\"]).iterate_items():\n",
    "    print(item)\n",
    "\n"
   ],
   "metadata": {
    "collapsed": false,
    "is_executing": true,
    "ExecuteTime": {
     "start_time": "2023-10-29T19:31:43.959636Z"
    }
   },
   "id": "655b95ea4952f001"
  }
 ],
 "metadata": {
  "kernelspec": {
   "display_name": "Python 3",
   "language": "python",
   "name": "python3"
  },
  "language_info": {
   "codemirror_mode": {
    "name": "ipython",
    "version": 2
   },
   "file_extension": ".py",
   "mimetype": "text/x-python",
   "name": "python",
   "nbconvert_exporter": "python",
   "pygments_lexer": "ipython2",
   "version": "2.7.6"
  }
 },
 "nbformat": 4,
 "nbformat_minor": 5
}
